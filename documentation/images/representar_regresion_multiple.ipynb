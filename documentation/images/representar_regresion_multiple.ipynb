{
 "cells": [
  {
   "cell_type": "markdown",
   "metadata": {},
   "source": [
    "# Cómo representar la regresión lineal múltiple"
   ]
  },
  {
   "cell_type": "markdown",
   "metadata": {},
   "source": [
    "## Introducción: cómo representar la regresión lineal simple"
   ]
  },
  {
   "cell_type": "markdown",
   "metadata": {},
   "source": [
    "Para representar un modelo de regresión lineal simple (1 variable independiente, 1 variable dependiente), se suele usar una gráfica en la que el eje X representa a la variable independiente y la Y, la dependiente. \n",
    "\n",
    "De este modo, si la variable independiente son los ingresos y la variable independiente es la valoración de la felicidad, una persona con ingresos de 1000$ y felicidad 5 se representaría mediante un punto situado en (1000, 5). \n",
    "\n",
    "Para representar el modelo, se irían colococando todos los puntos para cada par de datos, hasta tener una nube de puntos y posteriormente se trazaría la recta que predice los resultados. "
   ]
  },
  {
   "cell_type": "markdown",
   "metadata": {},
   "source": [
    "![1](simple-linear-regression-graph.png)"
   ]
  },
  {
   "cell_type": "markdown",
   "metadata": {},
   "source": [
    "## Representación regresión lineal mútliple\n"
   ]
  },
  {
   "cell_type": "markdown",
   "metadata": {},
   "source": [
    "### 2 variables independientes"
   ]
  },
  {
   "cell_type": "markdown",
   "metadata": {},
   "source": [
    "#### Gráfico 3D\n"
   ]
  },
  {
   "cell_type": "markdown",
   "metadata": {},
   "source": [
    "Si el modelo tiene dos entradas, podemos usar la misma solución que para la regresión simple, pero adaptando las dimensiones necesarias a la magnitud del modelo. Es decir, usando un espacio en tres dimensiones. De esta manera, la variable dependiente la podríamos situar en el eje Z y las variables independientes en los ejes X e Y. \n",
    "\n",
    "De este modo, si la variables independientes son las tasas de asesinatos y de graduados y la variable independiente es la valoración de la esperanza de vida, una región con una tasa de asesinatos de 15‰, una tasa de graduados del 50% y una esperanza de vida de 70 se situaría en el punto del espacio (15, 50, 70).\n",
    "\n",
    "Para representar el modelo, se haría lo mismo que en la regresión lineal simple, pero en tres dimensiones, y en cambio de la recta se usaría un plano, ya que ahora hay dos variables independientes.  \n",
    "\n",
    "Esta forma de representar tiene la ventaja de tener de forma compacta toda la información de un modelo (en una sola imagen). Sin embargo, la visión de la nube de puntos y de cómo varía la variable dependiente en función de las otras variables no es muy clara."
   ]
  },
  {
   "cell_type": "markdown",
   "metadata": {},
   "source": [
    "![1](3d.webp)"
   ]
  },
  {
   "cell_type": "markdown",
   "metadata": {},
   "source": [
    "#### Matriz de gráficos de dispersión"
   ]
  },
  {
   "cell_type": "markdown",
   "metadata": {},
   "source": [
    "Consiste en crear un gráfico de dispersión para cada par de variables. \n",
    "\n",
    "Añade información que no es de interés, ya que muestra la correlación entre variables independientes."
   ]
  },
  {
   "cell_type": "markdown",
   "metadata": {},
   "source": [
    "![1](image-2.png)"
   ]
  },
  {
   "cell_type": "markdown",
   "metadata": {},
   "source": [
    "#### Gráficos de dispersión múltiple"
   ]
  },
  {
   "cell_type": "markdown",
   "metadata": {},
   "source": [
    "Se crean gráficos de dispersión para cada par de variables (por ejemplo, esperanza de vida vs tasa de asesinatos y esperanza de vida vs tasa de graduados).\n",
    "\n",
    "De este modo, el ejemplo anterior, se situaría en el punto del espacio (15, 70) en la primera gráfica y (50,70) en la segunda gráfica.\n",
    "\n",
    "Esta representación da una idea más clasra de la relación entre cada variable independiente y la dependiente, al mantenerse constante la otra variable independiente. Sin embargo, la información está más dispersa al tener que emplearse dos gráficas."
   ]
  },
  {
   "cell_type": "markdown",
   "metadata": {},
   "source": [
    "![1](op2_3v.png)"
   ]
  },
  {
   "cell_type": "markdown",
   "metadata": {},
   "source": [
    "## Más de 2 variables independientes"
   ]
  },
  {
   "cell_type": "markdown",
   "metadata": {},
   "source": [
    "#### Matriz de dispersión"
   ]
  },
  {
   "cell_type": "markdown",
   "metadata": {},
   "source": [
    "Igual que con dos variables independientes, con el inconveniente adicional de que si hay muchas variables, los gráficos superfluos hacen que los gráficos necesarios tengan un tamaño muy pequeño."
   ]
  },
  {
   "cell_type": "markdown",
   "metadata": {},
   "source": [
    "![1](matDis.png)"
   ]
  },
  {
   "cell_type": "markdown",
   "metadata": {},
   "source": [
    "#### Gráficos de dispersión múltiple"
   ]
  },
  {
   "cell_type": "markdown",
   "metadata": {},
   "source": [
    "A medida que se van añadiendo más variables independientes, se añade otra gráfica. Tiene las mismas ventajas que con 2 variables independientes. Los gráficos importantes no se ven tan empequeñecidos como con la matriz de dispersión."
   ]
  },
  {
   "cell_type": "markdown",
   "metadata": {},
   "source": [
    "![1](op1Vm.png)"
   ]
  },
  {
   "cell_type": "markdown",
   "metadata": {},
   "source": [
    "## Otro tipo de variables "
   ]
  },
  {
   "cell_type": "markdown",
   "metadata": {},
   "source": [
    "Si las variables no son cuantitativas numéricas, se podría representar el modelo (únicamente de regresión múltiple) de distintas maneras. \n",
    "La primera manera sería poniendo todos los puntos y rectas en el mismo gráfico, diferenciando por colores (bueno en variables con poco valores).\n",
    "La segunda, haciendo gráficos para cada variable no númerica o discreta."
   ]
  },
  {
   "cell_type": "markdown",
   "metadata": {},
   "source": [
    "![1](op1F.jpg)"
   ]
  },
  {
   "cell_type": "markdown",
   "metadata": {},
   "source": [
    "![1](op2F.png)"
   ]
  }
 ],
 "metadata": {
  "language_info": {
   "name": "python"
  }
 },
 "nbformat": 4,
 "nbformat_minor": 2
}
